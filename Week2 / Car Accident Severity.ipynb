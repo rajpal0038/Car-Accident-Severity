{
    "cells": [
        {
            "cell_type": "markdown",
            "metadata": {
                "collapsed": true
            },
            "source": "## Introduction/Business Problem "
        },
        {
            "cell_type": "markdown",
            "metadata": {},
            "source": "According to the CDC, road accidents are the third top responsible for human mortality, so much so that 170 thousand people died of accidents in the US during the year 2017. The WHO statistics also show that road accidents are one of the top 10 reasons responsible for human mortalities. In fact, according to WHO, the counts of road accident related mortalities have risen up to 2 million people in 2016 (ranked 8th cause of death) from the year 2000's 1.5 million people(ranked 10th cause of death). Many companies and organizations are trying to reduce the fatal injuries of road accidents. These include: urban planning organizations, ministry of health, Police departments, manufacturers of self-driving and non self-driving cars (Le BMW. Tesla etc.)\n\nAs a Data scientist, I believe a model that predicts road accident severity based on the given appropriate attributes could improve and/or possibly revolutionize these companies/organizations' actions. Below are examples of how such a predictive model could help these companies/organizations.\n\nUrban planning organizations: such an organization could check the safety and quality of the urban roads by giving the road's attributes to the model and receive predictions. The roads whose predictions returned high severity of injuries could be prioritized for rethinking and repair"
        },
        {
            "cell_type": "markdown",
            "metadata": {},
            "source": "## Data"
        },
        {
            "cell_type": "markdown",
            "metadata": {},
            "source": "This data was collected by SPD and had been recorded by traffic records, we had circa 193K+ records for accidents during the time span starting from 2004 to the recent past with 37 Independent variables and outcome or labelled data will severity of the accident. Severity has been categorised into 5 categories by SDOT.\n\nA code that corresponds to the severity of the collision:\n\n3\u2014fatality\n\n2b-serious injury\n\n2-injury\n\n1-prop damage\n\n0-unknown\n\nOut of all records, only circa 30% is having the predicted severity '1' records and the rest were severity 2. So have balanced the number of records for both the outcomes to prevent the bias towards one outcome as majority records can pull off many variations in prediction.\n\nThere is a lot of unusable data for our purpose like INCKEY, COLDETKEY, EXCEPTRSNCODE, EXCEPTRSNDESC etc.... So have selected all the key factors present in the data for prediction which are:\n\n1. Weather condition.\n\n2. Road condition.\n\n3. Lighting condition.\n\n4. Collision Address type\n\n5. Speeding flag\n\n6. X, Y.\n\nAfter selecting the data, I have seen some missing values and have updated them as follows.\n\nFor weather, road condition, light condition & Address type data, have replaced the missing values with the unknown as already a ceratin number of records were having that values. A majority number of records are not having any data in the speeding flag, so assumed speeding was not there and replaced with no value as speeding not recorded.\n\nThere is a small number of records for missing X, Y values, so have used mean value to replace those missing values in the location. Have selected location as key paramater because few locations are accident-prone zones, so we can predict the outcome easily in such scenarios\n\nAfter doing this sanitation, I have seen data in good form for normalizing and looked perfect as categorical values. So the key fields which can predict the outcome in the selected KNN classification were the above mentioned 6 factors.\n\nKNN classification was preferred after evaluating the Jaccard index, F1 score for models built on KNN, SVM, Logistic Regression & Decision trees."
        },
        {
            "cell_type": "code",
            "execution_count": null,
            "metadata": {},
            "outputs": [],
            "source": ""
        }
    ],
    "metadata": {
        "kernelspec": {
            "display_name": "Python 3.6",
            "language": "python",
            "name": "python3"
        },
        "language_info": {
            "codemirror_mode": {
                "name": "ipython",
                "version": 3
            },
            "file_extension": ".py",
            "mimetype": "text/x-python",
            "name": "python",
            "nbconvert_exporter": "python",
            "pygments_lexer": "ipython3",
            "version": "3.6.9"
        }
    },
    "nbformat": 4,
    "nbformat_minor": 1
}